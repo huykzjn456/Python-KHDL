{
 "cells": [
  {
   "cell_type": "markdown",
   "id": "f1917c9d-9e77-40b0-98b4-dd7bd4833268",
   "metadata": {},
   "source": [
    "<h1 align=\"center\">Random-Number Generation</h1>"
   ]
  },
  {
   "cell_type": "markdown",
   "id": "d1cb1df0-9943-4cc3-852e-63e91d4890ee",
   "metadata": {},
   "source": [
    "We now take a brief diversion into a popular type of programming application — simulation and game playing. You can introduce the element of chance via the Python Standard Library’s <b>random</b> module."
   ]
  },
  {
   "cell_type": "markdown",
   "id": "1c0403e9-e739-43e2-b9e7-6f1a9601a3d6",
   "metadata": {},
   "source": [
    "#### Rolling a Six-Sided Die"
   ]
  },
  {
   "cell_type": "markdown",
   "id": "222c460e-18d4-4d69-921e-077b7f6a7329",
   "metadata": {},
   "source": [
    "Let’s produce 10 random integers in the range 1–6 to simulate rolling a six-sided die.\n",
    "\n",
    "First, we import <b>random</b> so we can use the module’s capabilities. The <b>randrange</b> function generates an integer from the first argument value up to, but not including, the second argument value."
   ]
  },
  {
   "cell_type": "code",
   "execution_count": 1,
   "id": "a423c6ab-03c8-4414-8ce3-fb6c5572f975",
   "metadata": {},
   "outputs": [
    {
     "name": "stdout",
     "output_type": "stream",
     "text": [
      "6 1 6 1 3 3 4 4 4 5 "
     ]
    }
   ],
   "source": [
    "import random\n",
    "for roll in range(10):\n",
    "    print(random.randrange(1, 7), end=' ')"
   ]
  },
  {
   "cell_type": "markdown",
   "id": "4e4c28f5-2bf5-4378-b085-bf5c2ab2f10b",
   "metadata": {},
   "source": [
    "#### Rolling a Six-Sided Die 6,000,000 Times"
   ]
  },
  {
   "cell_type": "markdown",
   "id": "5bb55713-4328-4f83-adfb-f377900df4c3",
   "metadata": {},
   "source": [
    "If randrange truly produces integers at random, every number in its range has an equal <b>probability</b> of being returned each time we call it. To show that the die faces 1–6 occur with equal likelihood, the following script simulates 6,000,000 die rolls."
   ]
  },
  {
   "cell_type": "code",
   "execution_count": 3,
   "id": "27b7f4c1-7803-44e0-995e-8e5b05c9f47a",
   "metadata": {},
   "outputs": [],
   "source": [
    "import random"
   ]
  },
  {
   "cell_type": "code",
   "execution_count": 18,
   "id": "92456f11-8b75-4eb7-ba28-57d3f729cba5",
   "metadata": {},
   "outputs": [
    {
     "name": "stdout",
     "output_type": "stream",
     "text": [
      "[1000238, 1000386, 999228, 999395, 1000489, 1000264]\n",
      "mat 1 ty le: 16.67%\n",
      "mat 2 ty le: 16.67%\n",
      "mat 3 ty le: 16.65%\n",
      "mat 4 ty le: 16.66%\n",
      "mat 5 ty le: 16.67%\n",
      "mat 6 ty le: 16.67%\n"
     ]
    }
   ],
   "source": [
    "roll_frequency = [0,0,0,0,0,0]\n",
    "for i in range(6000000):\n",
    "    roll_rand = random.randint(1,6)\n",
    "    roll_frequency[roll_rand - 1] +=1\n",
    "\n",
    "print(roll_frequency)\n",
    "\n",
    "print(f'mat 1 ty le: {round(roll_frequency[0]/60000,2)}%')\n",
    "print(f'mat 2 ty le: {round(roll_frequency[1]/60000,2)}%')\n",
    "print(f'mat 3 ty le: {round(roll_frequency[2]/60000,2)}%')\n",
    "print(f'mat 4 ty le: {round(roll_frequency[3]/60000,2)}%')\n",
    "print(f'mat 5 ty le: {round(roll_frequency[4]/60000,2)}%')\n",
    "print(f'mat 6 ty le: {round(roll_frequency[5]/60000,2)}%')"
   ]
  }
 ],
 "metadata": {
  "kernelspec": {
   "display_name": "Python [conda env:base] *",
   "language": "python",
   "name": "conda-base-py"
  },
  "language_info": {
   "codemirror_mode": {
    "name": "ipython",
    "version": 3
   },
   "file_extension": ".py",
   "mimetype": "text/x-python",
   "name": "python",
   "nbconvert_exporter": "python",
   "pygments_lexer": "ipython3",
   "version": "3.12.7"
  }
 },
 "nbformat": 4,
 "nbformat_minor": 5
}
