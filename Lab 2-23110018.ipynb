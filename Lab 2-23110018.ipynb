{
 "cells": [
  {
   "cell_type": "markdown",
   "id": "4cedcfea-cfa4-4fea-b211-706dac0503c0",
   "metadata": {},
   "source": [
    "<h1 align=\"center\">Program Development: Sequence-Controlled \n",
    "Repetition</h1>"
   ]
  },
  {
   "cell_type": "markdown",
   "id": "28bed52a-5579-4bea-b3c1-4a53c0a42ad0",
   "metadata": {},
   "source": [
    "<i>A class of ten students took a quiz. Their grades (integers in the range 0 – 100) are\n",
    "98, 76, 71, 87, 83, 90, 57, 79, 82, 94. Determine the class average on the quiz.</i>"
   ]
  },
  {
   "cell_type": "markdown",
   "id": "e39d0473-eb01-4068-b7d6-54b750d484d5",
   "metadata": {},
   "source": [
    " The algorithm for solving this problem must: \n",
    "1. Keep a running total of the grades. \n",
    "2. Calculate the average—the total of the grades divided by the number of grades. \n",
    "3. Display the result. "
   ]
  },
  {
   "cell_type": "code",
   "execution_count": 14,
   "id": "f27ba3aa-d7d6-4e73-b422-623f35772e95",
   "metadata": {
    "scrolled": true
   },
   "outputs": [
    {
     "name": "stdout",
     "output_type": "stream",
     "text": [
      "[98, 76, 71, 87, 83, 90, 57, 79, 82, 94]\n",
      "10\n",
      "81.7\n"
     ]
    }
   ],
   "source": [
    "grades = [98, 76, 71, 87, 83, 90, 57, 79, 82, 94]\n",
    "print(grades)\n",
    "count = 0\n",
    "sum_grade = 0\n",
    "for grade in grades:\n",
    "    count = count + 1\n",
    "    sum_grade += grade\n",
    "print(count)\n",
    "print(sum_grade/count)\n"
   ]
  },
  {
   "cell_type": "markdown",
   "id": "c3c331db-75c5-480c-aeb5-e698451064aa",
   "metadata": {},
   "source": [
    "<h1 align=\"center\">Program Development: Sentinel-Controlled \n",
    "Repetition</h1>"
   ]
  },
  {
   "cell_type": "markdown",
   "id": "6bff6fa3-ed84-4163-b9af-ff879fa7d5a0",
   "metadata": {},
   "source": [
    "<i>Develop a class-averaging program that processes an arbitrary number of grades\n",
    "each time the program executes.</i>\n",
    "\n",
    "A sentinel value must not be confused with any acceptable input value. Grades on a\r\n",
    "quiz are typically nonnegative integers between 0 and 100, so the value –1 is an acceptable\r\n",
    "sentinel value for this proble Thus, a run of the class-average program might process a\r\n",
    "stream of inputs such as 95, 96, 75, 74, 89 and –1. The program would then compute and\r\n",
    "print the class average for the grades 95, 96, 75, 74 and 89. The sentinel value –1 should\r\n",
    "not enter into the averaging calculaon.m."
   ]
  },
  {
   "cell_type": "code",
   "execution_count": 83,
   "id": "0f52235c-aa7c-4b35-82d0-468dbd3f540e",
   "metadata": {
    "scrolled": true
   },
   "outputs": [
    {
     "name": "stdin",
     "output_type": "stream",
     "text": [
      "Enter grade:  50\n",
      "Enter grade:  50\n",
      "Enter grade:  -1\n"
     ]
    },
    {
     "name": "stdout",
     "output_type": "stream",
     "text": [
      "[50, 50]\n",
      "50.0\n"
     ]
    }
   ],
   "source": [
    "sum_grade = 0\n",
    "count = 0\n",
    "grade = []\n",
    "temp_grade = int(input('Enter grade: '))\n",
    "\n",
    "while temp_grade != -1:\n",
    "    grade += [temp_grade]\n",
    "    sum_grade += temp_grade\n",
    "    count += 1\n",
    "    temp_grade = int(input('Enter grade: '))\n",
    "\n",
    "\n",
    "\n",
    "print(grade)\n",
    "print(sum_grade/count)\n",
    "    "
   ]
  },
  {
   "cell_type": "markdown",
   "id": "ba4b6640-b15f-4217-a3a4-062702db40ee",
   "metadata": {},
   "source": [
    "<h1 align=\"center\">Program Development: Nested Control Statements</h1>"
   ]
  },
  {
   "cell_type": "markdown",
   "id": "4c4c1b1c-d347-431c-8021-9383d5860e4e",
   "metadata": {},
   "source": [
    "<i>A college offers a course that prepares students for the state licensing exam for real\u0002estate brokers. Last year, several of the students who completed this course took the\r\n",
    "licensing examination. The college wants to know how well its students did on the\r\n",
    "exam. You have been asked to write a program to summarize the results. You have\r\n",
    "been given a list of these 10 students. Next to each name is written a 1 if the stu\u0002dent passed the exam and a 2 if the student fai.led<ctor.”ation.m."
   ]
  },
  {
   "cell_type": "markdown",
   "id": "09603ef7-4f51-4a83-a542-99e811a7b0cf",
   "metadata": {},
   "source": [
    "Your program should analyze the results of the exam as follows:\n",
    "1. Input each test result (i.e., a 1 or a 2). Display the message “Enter result”\n",
    "each time the program requests another test result.\n",
    "2. Count the number of test results of each type.\n",
    "3. Display a summary of the test results indicating the number of students who\n",
    "passed and the number of students who failed.\n",
    "4. If more than eight students passed the exam, display “Bonus to instructor.”"
   ]
  },
  {
   "cell_type": "code",
   "execution_count": null,
   "id": "4139dd5d-e202-49c8-afaf-03857e334587",
   "metadata": {},
   "outputs": [
    {
     "name": "stdin",
     "output_type": "stream",
     "text": [
      "enter name and result:  A 5\n"
     ]
    },
    {
     "name": "stdout",
     "output_type": "stream",
     "text": [
      "no valid result\n"
     ]
    },
    {
     "name": "stdin",
     "output_type": "stream",
     "text": [
      "enter name and result:  A 2\n",
      "enter name and result:  A -1\n"
     ]
    },
    {
     "name": "stdout",
     "output_type": "stream",
     "text": [
      "no valid result\n"
     ]
    },
    {
     "name": "stdin",
     "output_type": "stream",
     "text": [
      "enter name and result:  A 0\n"
     ]
    },
    {
     "name": "stdout",
     "output_type": "stream",
     "text": [
      "no valid result\n"
     ]
    }
   ],
   "source": [
    "#1\n",
    "student_list = []\n",
    "for i in range(10):\n",
    "    x, y = input('enter name and result: ').split(' ')\n",
    "    while(int(y) < 1 or int(y) > 2):\n",
    "        print('no valid result')\n",
    "        x, y = input('enter name and result: ').split(' ')\n",
    "    student_list += [[x,int(y)]]\n",
    "\n",
    "print(student_list)\n",
    "count_pass = 0\n",
    "#2\n",
    "for student in student_list:\n",
    "    if student[1] == 1:\n",
    "        count_pass +=1\n",
    "#3\n",
    "print(f'students passed: {count_pass}')\n",
    "print(f'students failed: {len(student_list) - count_pass}')\n",
    "\n",
    "#4\n",
    "is_bonus = count_pass > 8\n",
    "print(f'Bonus to  instructor: {is_bonus}')"
   ]
  },
  {
   "cell_type": "markdown",
   "id": "d50e9080-0ab6-4344-8819-620f332db180",
   "metadata": {},
   "source": [
    "<h1 align=\"center\">Measures of Central Tendency — Mean, Median and Mode</h1>"
   ]
  },
  {
   "cell_type": "markdown",
   "id": "d1cb1df0-9943-4cc3-852e-63e91d4890ee",
   "metadata": {},
   "source": [
    "Here we continue our discussion of using statistics to analyze data with several additional descriptive statistics, including:\n",
    "\n",
    "- mean - the average value in a set of values.\n",
    "\n",
    "- median - the middle value when all the values are arranged in sorted order.\n",
    "\n",
    "- mode - the most frequently occurring value.\n",
    "\n",
    "These are <b>measures of central tendency</b> — each is a way of producing a single value that represents a “central” value in a set of values, i.e., a value which is in some sense typical of the others.\n"
   ]
  },
  {
   "cell_type": "markdown",
   "id": "1c0403e9-e739-43e2-b9e7-6f1a9601a3d6",
   "metadata": {},
   "source": [
    "Let’s calculate the mean, median and mode on a list of integers. The following session creates a list called grades, then uses the built-in sum and len functions to calculate the mean “by hand”."
   ]
  },
  {
   "cell_type": "code",
   "execution_count": 25,
   "id": "a2aab747-5728-4d6c-b530-a52fcc138161",
   "metadata": {},
   "outputs": [],
   "source": [
    "grades = [85, 93, 45, 89, 85]"
   ]
  },
  {
   "cell_type": "code",
   "execution_count": 26,
   "id": "a423c6ab-03c8-4414-8ce3-fb6c5572f975",
   "metadata": {},
   "outputs": [
    {
     "data": {
      "text/plain": [
       "397"
      ]
     },
     "execution_count": 26,
     "metadata": {},
     "output_type": "execute_result"
    }
   ],
   "source": [
    "sum(grades)"
   ]
  },
  {
   "cell_type": "code",
   "execution_count": 27,
   "id": "bc358995-c022-4344-a4c7-77de8fa5dd7f",
   "metadata": {},
   "outputs": [
    {
     "data": {
      "text/plain": [
       "5"
      ]
     },
     "execution_count": 27,
     "metadata": {},
     "output_type": "execute_result"
    }
   ],
   "source": [
    "len(grades)"
   ]
  },
  {
   "cell_type": "code",
   "execution_count": 28,
   "id": "32fe0775-269b-40e6-b2fe-5a7ca987389f",
   "metadata": {},
   "outputs": [
    {
     "data": {
      "text/plain": [
       "79.4"
      ]
     },
     "execution_count": 28,
     "metadata": {},
     "output_type": "execute_result"
    }
   ],
   "source": [
    "sum(grades) / len(grades)"
   ]
  },
  {
   "cell_type": "markdown",
   "id": "5bb55713-4328-4f83-adfb-f377900df4c3",
   "metadata": {},
   "source": [
    "The Python Standard Library’s statistics module provides functions for calculating the mean, median and mode. To use these capabilities, first import the statistics module:"
   ]
  },
  {
   "cell_type": "code",
   "execution_count": 30,
   "id": "27b7f4c1-7803-44e0-995e-8e5b05c9f47a",
   "metadata": {},
   "outputs": [],
   "source": [
    "import statistics"
   ]
  },
  {
   "cell_type": "code",
   "execution_count": 31,
   "id": "8eb3ff57-9d53-4e84-9971-27b78bfd5ac8",
   "metadata": {},
   "outputs": [
    {
     "data": {
      "text/plain": [
       "79.4"
      ]
     },
     "execution_count": 31,
     "metadata": {},
     "output_type": "execute_result"
    }
   ],
   "source": [
    "statistics.mean(grades)"
   ]
  },
  {
   "cell_type": "code",
   "execution_count": 32,
   "id": "47ffa82f-006a-4b2f-a64d-6a2b79e7b98e",
   "metadata": {},
   "outputs": [
    {
     "data": {
      "text/plain": [
       "85"
      ]
     },
     "execution_count": 32,
     "metadata": {},
     "output_type": "execute_result"
    }
   ],
   "source": [
    "statistics.median(grades)"
   ]
  },
  {
   "cell_type": "code",
   "execution_count": 33,
   "id": "7b8f54eb-1fe5-40bd-99f1-4ee3d6759150",
   "metadata": {},
   "outputs": [
    {
     "data": {
      "text/plain": [
       "85"
      ]
     },
     "execution_count": 33,
     "metadata": {},
     "output_type": "execute_result"
    }
   ],
   "source": [
    "statistics.mode(grades)"
   ]
  },
  {
   "cell_type": "markdown",
   "id": "91e90fc4-e531-4305-9c15-0aae0e784485",
   "metadata": {},
   "source": [
    "Each function’s argument must be an iterable — in this case, the list grades. To confirm that the median and mode are correct, you can use the built-in sorted function to get a copy of grades with its values arranged in increasing order:"
   ]
  },
  {
   "cell_type": "code",
   "execution_count": 35,
   "id": "f9bdf5f5-3410-4c70-9aa0-525f61f3eb43",
   "metadata": {},
   "outputs": [
    {
     "data": {
      "text/plain": [
       "[45, 85, 85, 89, 93]"
      ]
     },
     "execution_count": 35,
     "metadata": {},
     "output_type": "execute_result"
    }
   ],
   "source": [
    "sorted(grades)"
   ]
  },
  {
   "cell_type": "markdown",
   "id": "02ffed29-0799-4afe-a12a-ed0d4f18f051",
   "metadata": {},
   "source": [
    "The grades list has an odd number of values (5), so median returns the middle value (85). If the list’s number of values is even, median returns the average of the two middle values. Studying the sorted values, you can see that 85 is the mode because it occurs most frequently (twice)."
   ]
  }
 ],
 "metadata": {
  "kernelspec": {
   "display_name": "Python [conda env:base] *",
   "language": "python",
   "name": "conda-base-py"
  },
  "language_info": {
   "codemirror_mode": {
    "name": "ipython",
    "version": 3
   },
   "file_extension": ".py",
   "mimetype": "text/x-python",
   "name": "python",
   "nbconvert_exporter": "python",
   "pygments_lexer": "ipython3",
   "version": "3.12.7"
  }
 },
 "nbformat": 4,
 "nbformat_minor": 5
}
